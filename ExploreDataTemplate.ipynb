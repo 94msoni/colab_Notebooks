{
  "nbformat": 4,
  "nbformat_minor": 0,
  "metadata": {
    "colab": {
      "name": "Getting started with BigQuery",
      "version": "0.3.2",
      "provenance": [],
      "collapsed_sections": [
        "HeZN5bOEl2iI"
      ],
      "toc_visible": true,
      "include_colab_link": true
    },
    "kernelspec": {
      "display_name": "Python 3",
      "name": "python3"
    }
  },
  "cells": [
    {
      "cell_type": "markdown",
      "metadata": {
        "id": "view-in-github",
        "colab_type": "text"
      },
      "source": [
        "<a href=\"https://colab.research.google.com/github/kolisachint/ExploreDataWithColab/blob/master/ExploreDataTemplate.ipynb\" target=\"_parent\"><img src=\"https://colab.research.google.com/assets/colab-badge.svg\" alt=\"Open In Colab\"/></a>"
      ]
    },
    {
      "metadata": {
        "colab_type": "text",
        "id": "KcAZ2RHCg_Ze"
      },
      "cell_type": "markdown",
      "source": [
        "# Before you begin\n",
        "\n",
        "\n",
        "1.   Use the [Cloud Resource Manager](https://console.cloud.google.com/cloud-resource-manager) to Create a Cloud Platform project if you do not already have one.\n",
        "2.   [Enable BigQuery](https://console.cloud.google.com/flows/enableapi?apiid=bigquery) APIs for the project.\n"
      ]
    },
    {
      "metadata": {
        "id": "UL1SH-NVm-OP",
        "colab_type": "text"
      },
      "cell_type": "markdown",
      "source": [
        "### Provide your credentials to the runtime"
      ]
    },
    {
      "metadata": {
        "id": "TRzgUrbsm_jM",
        "colab_type": "code",
        "colab": {
          "base_uri": "https://localhost:8080/",
          "height": 34
        },
        "outputId": "af793d03-bc5d-4e95-a06c-925de13f676f"
      },
      "cell_type": "code",
      "source": [
        "from google.colab import auth\n",
        "auth.authenticate_user()\n",
        "print('Authenticated')"
      ],
      "execution_count": 33,
      "outputs": [
        {
          "output_type": "stream",
          "text": [
            "Authenticated\n"
          ],
          "name": "stdout"
        }
      ]
    },
    {
      "metadata": {
        "colab_type": "text",
        "id": "LPNcomY_A0wj"
      },
      "cell_type": "markdown",
      "source": [
        "### Declare the Cloud project ID which will be used throughout this notebook"
      ]
    },
    {
      "metadata": {
        "colab_type": "code",
        "id": "nFF9Wz1CAyVI",
        "colab": {}
      },
      "cell_type": "code",
      "source": [
        "project_id = 'sachinproject'   # Change Project ID"
      ],
      "execution_count": 0,
      "outputs": []
    },
    {
      "metadata": {
        "colab_type": "text",
        "id": "rPPz4GqHCLOO"
      },
      "cell_type": "markdown",
      "source": [
        "### Use BigQuery through google-cloud-bigquery\n",
        "\n",
        "See [BigQuery documentation](https://cloud.google.com/bigquery/docs) and [library reference documentation](https://googlecloudplatform.github.io/google-cloud-python/latest/bigquery/usage.html).\n"
      ]
    },
    {
      "metadata": {
        "id": "6Zqobr6cgpPC",
        "colab_type": "code",
        "colab": {}
      },
      "cell_type": "code",
      "source": [
        "from google.cloud import bigquery\n",
        "client = bigquery.Client(project=project_id)"
      ],
      "execution_count": 0,
      "outputs": []
    },
    {
      "metadata": {
        "id": "66MDrM3WnKZX",
        "colab_type": "text"
      },
      "cell_type": "markdown",
      "source": [
        "### Prepare your query here\n",
        "Prepare your query here"
      ]
    },
    {
      "metadata": {
        "id": "ATFJB_YQnOFk",
        "colab_type": "code",
        "colab": {}
      },
      "cell_type": "code",
      "source": [
        "myQUERY = \"\"\"\n",
        "        SELECT license, COUNT(*) AS count\n",
        "        FROM `bigquery-public-data.github_repos.licenses`\n",
        "        GROUP BY license\n",
        "        ORDER BY COUNT(*) DESC\n",
        "        \"\"\""
      ],
      "execution_count": 0,
      "outputs": []
    },
    {
      "metadata": {
        "id": "PEEsGIY_du9g",
        "colab_type": "text"
      },
      "cell_type": "markdown",
      "source": [
        "###Estimate the size of your queries before you make them\n",
        "Now for the really cool part. We’re eager to start analyzing the BigQuery dataset to uncover insights, but we should be careful about how much data we scan in our queries. Let’s make those free 1TB count!"
      ]
    },
    {
      "metadata": {
        "id": "5N0CoE7Ha63F",
        "colab_type": "code",
        "colab": {
          "base_uri": "https://localhost:8080/",
          "height": 34
        },
        "outputId": "189a3659-6aaa-4908-d139-97d0e7b90d93"
      },
      "cell_type": "code",
      "source": [
        "dry_run_config = bigquery.job.QueryJobConfig()\n",
        "dry_run_config.dry_run = True\n",
        "dry_run_job = client.query(myQUERY, job_config=dry_run_config)\n",
        "print(\"This query will process \",dry_run_job.total_bytes_processed / BYTES_PER_MB,\"MB when run. \")"
      ],
      "execution_count": 37,
      "outputs": [
        {
          "output_type": "stream",
          "text": [
            "This query will process  24.805376052856445 MB when run. \n"
          ],
          "name": "stdout"
        }
      ]
    },
    {
      "metadata": {
        "colab_type": "text",
        "id": "5nasv8xyFd8i"
      },
      "cell_type": "markdown",
      "source": [
        "### Execute your query\n",
        "Execute your query here.\n",
        "# Do not run this cell until necessary :)"
      ]
    },
    {
      "metadata": {
        "colab_type": "code",
        "id": "gisPvdr4Eaui",
        "outputId": "6f1a5061-6b31-4169-e15e-01377fcc94d5",
        "colab": {
          "base_uri": "https://localhost:8080/",
          "height": 34
        }
      },
      "cell_type": "code",
      "source": [
        "df = client.query(myQUERY).to_dataframe()\n",
        "\n",
        "print('Full dataset has %d rows and %d columns. ' % (df.shape[0], df.shape[1]))"
      ],
      "execution_count": 48,
      "outputs": [
        {
          "output_type": "stream",
          "text": [
            "Full dataset has 15 rows and 2 columns. \n"
          ],
          "name": "stdout"
        }
      ]
    },
    {
      "metadata": {
        "colab_type": "text",
        "id": "OpJPmojxGfYO"
      },
      "cell_type": "markdown",
      "source": [
        "### Describe the sampled data"
      ]
    },
    {
      "metadata": {
        "colab_type": "code",
        "id": "YQQGTYsxGeS0",
        "outputId": "3d4d4eb6-a8f0-4cf0-ab0c-57a6bc699fd0",
        "colab": {
          "base_uri": "https://localhost:8080/",
          "height": 297
        }
      },
      "cell_type": "code",
      "source": [
        "df.describe()"
      ],
      "execution_count": 49,
      "outputs": [
        {
          "output_type": "execute_result",
          "data": {
            "text/html": [
              "<div>\n",
              "<style scoped>\n",
              "    .dataframe tbody tr th:only-of-type {\n",
              "        vertical-align: middle;\n",
              "    }\n",
              "\n",
              "    .dataframe tbody tr th {\n",
              "        vertical-align: top;\n",
              "    }\n",
              "\n",
              "    .dataframe thead th {\n",
              "        text-align: right;\n",
              "    }\n",
              "</style>\n",
              "<table border=\"1\" class=\"dataframe\">\n",
              "  <thead>\n",
              "    <tr style=\"text-align: right;\">\n",
              "      <th></th>\n",
              "      <th>count</th>\n",
              "    </tr>\n",
              "  </thead>\n",
              "  <tbody>\n",
              "    <tr>\n",
              "      <th>count</th>\n",
              "      <td>1.500000e+01</td>\n",
              "    </tr>\n",
              "    <tr>\n",
              "      <th>mean</th>\n",
              "      <td>2.233593e+05</td>\n",
              "    </tr>\n",
              "    <tr>\n",
              "      <th>std</th>\n",
              "      <td>4.385058e+05</td>\n",
              "    </tr>\n",
              "    <tr>\n",
              "      <th>min</th>\n",
              "      <td>8.696000e+03</td>\n",
              "    </tr>\n",
              "    <tr>\n",
              "      <th>25%</th>\n",
              "      <td>2.369450e+04</td>\n",
              "    </tr>\n",
              "    <tr>\n",
              "      <th>50%</th>\n",
              "      <td>4.148500e+04</td>\n",
              "    </tr>\n",
              "    <tr>\n",
              "      <th>75%</th>\n",
              "      <td>2.484410e+05</td>\n",
              "    </tr>\n",
              "    <tr>\n",
              "      <th>max</th>\n",
              "      <td>1.710122e+06</td>\n",
              "    </tr>\n",
              "  </tbody>\n",
              "</table>\n",
              "</div>"
            ],
            "text/plain": [
              "              count\n",
              "count  1.500000e+01\n",
              "mean   2.233593e+05\n",
              "std    4.385058e+05\n",
              "min    8.696000e+03\n",
              "25%    2.369450e+04\n",
              "50%    4.148500e+04\n",
              "75%    2.484410e+05\n",
              "max    1.710122e+06"
            ]
          },
          "metadata": {
            "tags": []
          },
          "execution_count": 49
        }
      ]
    },
    {
      "metadata": {
        "colab_type": "text",
        "id": "wESi-OdKGZba"
      },
      "cell_type": "markdown",
      "source": [
        "### View the first 10 rows"
      ]
    },
    {
      "metadata": {
        "colab_type": "code",
        "id": "2DrH3X4nGQoU",
        "outputId": "ab6f98ea-77d8-4036-a5bf-fdd0e2af7971",
        "colab": {
          "base_uri": "https://localhost:8080/",
          "height": 359
        }
      },
      "cell_type": "code",
      "source": [
        "df.head(10)"
      ],
      "execution_count": 50,
      "outputs": [
        {
          "output_type": "execute_result",
          "data": {
            "text/html": [
              "<div>\n",
              "<style scoped>\n",
              "    .dataframe tbody tr th:only-of-type {\n",
              "        vertical-align: middle;\n",
              "    }\n",
              "\n",
              "    .dataframe tbody tr th {\n",
              "        vertical-align: top;\n",
              "    }\n",
              "\n",
              "    .dataframe thead th {\n",
              "        text-align: right;\n",
              "    }\n",
              "</style>\n",
              "<table border=\"1\" class=\"dataframe\">\n",
              "  <thead>\n",
              "    <tr style=\"text-align: right;\">\n",
              "      <th></th>\n",
              "      <th>license</th>\n",
              "      <th>count</th>\n",
              "    </tr>\n",
              "  </thead>\n",
              "  <tbody>\n",
              "    <tr>\n",
              "      <th>0</th>\n",
              "      <td>mit</td>\n",
              "      <td>1710122</td>\n",
              "    </tr>\n",
              "    <tr>\n",
              "      <th>1</th>\n",
              "      <td>apache-2.0</td>\n",
              "      <td>493503</td>\n",
              "    </tr>\n",
              "    <tr>\n",
              "      <th>2</th>\n",
              "      <td>gpl-2.0</td>\n",
              "      <td>345658</td>\n",
              "    </tr>\n",
              "    <tr>\n",
              "      <th>3</th>\n",
              "      <td>gpl-3.0</td>\n",
              "      <td>343615</td>\n",
              "    </tr>\n",
              "    <tr>\n",
              "      <th>4</th>\n",
              "      <td>bsd-3-clause</td>\n",
              "      <td>153267</td>\n",
              "    </tr>\n",
              "    <tr>\n",
              "      <th>5</th>\n",
              "      <td>bsd-2-clause</td>\n",
              "      <td>56028</td>\n",
              "    </tr>\n",
              "    <tr>\n",
              "      <th>6</th>\n",
              "      <td>unlicense</td>\n",
              "      <td>46772</td>\n",
              "    </tr>\n",
              "    <tr>\n",
              "      <th>7</th>\n",
              "      <td>agpl-3.0</td>\n",
              "      <td>41485</td>\n",
              "    </tr>\n",
              "    <tr>\n",
              "      <th>8</th>\n",
              "      <td>lgpl-3.0</td>\n",
              "      <td>40074</td>\n",
              "    </tr>\n",
              "    <tr>\n",
              "      <th>9</th>\n",
              "      <td>cc0-1.0</td>\n",
              "      <td>27040</td>\n",
              "    </tr>\n",
              "  </tbody>\n",
              "</table>\n",
              "</div>"
            ],
            "text/plain": [
              "        license    count\n",
              "0           mit  1710122\n",
              "1    apache-2.0   493503\n",
              "2       gpl-2.0   345658\n",
              "3       gpl-3.0   343615\n",
              "4  bsd-3-clause   153267\n",
              "5  bsd-2-clause    56028\n",
              "6     unlicense    46772\n",
              "7      agpl-3.0    41485\n",
              "8      lgpl-3.0    40074\n",
              "9       cc0-1.0    27040"
            ]
          },
          "metadata": {
            "tags": []
          },
          "execution_count": 50
        }
      ]
    },
    {
      "metadata": {
        "id": "hHrPiKHbp45V",
        "colab_type": "text"
      },
      "cell_type": "markdown",
      "source": [
        "### Show all contents of dataframe"
      ]
    },
    {
      "metadata": {
        "id": "i7bzWgJ5p95l",
        "colab_type": "code",
        "colab": {
          "base_uri": "https://localhost:8080/",
          "height": 514
        },
        "outputId": "f08bebee-55f4-4083-815f-0d1e29496491"
      },
      "cell_type": "code",
      "source": [
        "df"
      ],
      "execution_count": 53,
      "outputs": [
        {
          "output_type": "execute_result",
          "data": {
            "text/html": [
              "<div>\n",
              "<style scoped>\n",
              "    .dataframe tbody tr th:only-of-type {\n",
              "        vertical-align: middle;\n",
              "    }\n",
              "\n",
              "    .dataframe tbody tr th {\n",
              "        vertical-align: top;\n",
              "    }\n",
              "\n",
              "    .dataframe thead th {\n",
              "        text-align: right;\n",
              "    }\n",
              "</style>\n",
              "<table border=\"1\" class=\"dataframe\">\n",
              "  <thead>\n",
              "    <tr style=\"text-align: right;\">\n",
              "      <th></th>\n",
              "      <th>license</th>\n",
              "      <th>count</th>\n",
              "    </tr>\n",
              "  </thead>\n",
              "  <tbody>\n",
              "    <tr>\n",
              "      <th>0</th>\n",
              "      <td>mit</td>\n",
              "      <td>1710122</td>\n",
              "    </tr>\n",
              "    <tr>\n",
              "      <th>1</th>\n",
              "      <td>apache-2.0</td>\n",
              "      <td>493503</td>\n",
              "    </tr>\n",
              "    <tr>\n",
              "      <th>2</th>\n",
              "      <td>gpl-2.0</td>\n",
              "      <td>345658</td>\n",
              "    </tr>\n",
              "    <tr>\n",
              "      <th>3</th>\n",
              "      <td>gpl-3.0</td>\n",
              "      <td>343615</td>\n",
              "    </tr>\n",
              "    <tr>\n",
              "      <th>4</th>\n",
              "      <td>bsd-3-clause</td>\n",
              "      <td>153267</td>\n",
              "    </tr>\n",
              "    <tr>\n",
              "      <th>5</th>\n",
              "      <td>bsd-2-clause</td>\n",
              "      <td>56028</td>\n",
              "    </tr>\n",
              "    <tr>\n",
              "      <th>6</th>\n",
              "      <td>unlicense</td>\n",
              "      <td>46772</td>\n",
              "    </tr>\n",
              "    <tr>\n",
              "      <th>7</th>\n",
              "      <td>agpl-3.0</td>\n",
              "      <td>41485</td>\n",
              "    </tr>\n",
              "    <tr>\n",
              "      <th>8</th>\n",
              "      <td>lgpl-3.0</td>\n",
              "      <td>40074</td>\n",
              "    </tr>\n",
              "    <tr>\n",
              "      <th>9</th>\n",
              "      <td>cc0-1.0</td>\n",
              "      <td>27040</td>\n",
              "    </tr>\n",
              "    <tr>\n",
              "      <th>10</th>\n",
              "      <td>epl-1.0</td>\n",
              "      <td>24412</td>\n",
              "    </tr>\n",
              "    <tr>\n",
              "      <th>11</th>\n",
              "      <td>lgpl-2.1</td>\n",
              "      <td>22977</td>\n",
              "    </tr>\n",
              "    <tr>\n",
              "      <th>12</th>\n",
              "      <td>mpl-2.0</td>\n",
              "      <td>18930</td>\n",
              "    </tr>\n",
              "    <tr>\n",
              "      <th>13</th>\n",
              "      <td>isc</td>\n",
              "      <td>17811</td>\n",
              "    </tr>\n",
              "    <tr>\n",
              "      <th>14</th>\n",
              "      <td>artistic-2.0</td>\n",
              "      <td>8696</td>\n",
              "    </tr>\n",
              "  </tbody>\n",
              "</table>\n",
              "</div>"
            ],
            "text/plain": [
              "         license    count\n",
              "0            mit  1710122\n",
              "1     apache-2.0   493503\n",
              "2        gpl-2.0   345658\n",
              "3        gpl-3.0   343615\n",
              "4   bsd-3-clause   153267\n",
              "5   bsd-2-clause    56028\n",
              "6      unlicense    46772\n",
              "7       agpl-3.0    41485\n",
              "8       lgpl-3.0    40074\n",
              "9        cc0-1.0    27040\n",
              "10       epl-1.0    24412\n",
              "11      lgpl-2.1    22977\n",
              "12       mpl-2.0    18930\n",
              "13           isc    17811\n",
              "14  artistic-2.0     8696"
            ]
          },
          "metadata": {
            "tags": []
          },
          "execution_count": 53
        }
      ]
    }
  ]
}
